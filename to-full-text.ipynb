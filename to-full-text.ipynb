{
 "cells": [
  {
   "cell_type": "code",
   "execution_count": 75,
   "id": "9c2467e0",
   "metadata": {},
   "outputs": [],
   "source": [
    "import pandas as pd\n",
    "import numpy as np \n",
    "import os\n",
    "import matplotlib"
   ]
  },
  {
   "cell_type": "code",
   "execution_count": 76,
   "id": "c500c84a",
   "metadata": {},
   "outputs": [
    {
     "data": {
      "text/plain": [
       "['csv_files',\n",
       " 'data',\n",
       " 'Data Description.pdf',\n",
       " 'database',\n",
       " 'dbl-group-3',\n",
       " 'Meeting template',\n",
       " 'pickle_files',\n",
       " 'presentation',\n",
       " 'SQLite lession',\n",
       " 'SQLiteStudio',\n",
       " 'Store',\n",
       " 'testing',\n",
       " 'Useful Software, Tools and Services.pdf']"
      ]
     },
     "execution_count": 76,
     "metadata": {},
     "output_type": "execute_result"
    }
   ],
   "source": [
    "os.listdir('../')"
   ]
  },
  {
   "cell_type": "code",
   "execution_count": 77,
   "id": "7ca85e5b",
   "metadata": {},
   "outputs": [
    {
     "data": {
      "text/plain": [
       "['airlines-1558527599826.json',\n",
       " 'airlines-1558546003827.json',\n",
       " 'airlines-1558611772040.json',\n",
       " 'airlines-1558623303180.json',\n",
       " 'airlines-1558678330070.json',\n",
       " 'airlines-1558697205154.json',\n",
       " 'airlines-1558744391657.json',\n",
       " 'airlines-1558779687636.json',\n",
       " 'airlines-1558863520888.json',\n",
       " 'airlines-1558888297881.json',\n",
       " 'airlines-1558974571041.json',\n",
       " 'airlines-1558998029487.json',\n",
       " 'airlines-1559069822287.json',\n",
       " 'airlines-1559097885748.json',\n",
       " 'airlines-1559142170524.json',\n",
       " 'airlines-1559156713030.json',\n",
       " 'airlines-1559231904332.json',\n",
       " 'airlines-1559256655329.json',\n",
       " 'airlines-1559323725358.json',\n",
       " 'airlines-1559352498975.json']"
      ]
     },
     "execution_count": 77,
     "metadata": {},
     "output_type": "execute_result"
    }
   ],
   "source": [
    "os.listdir('../data')"
   ]
  },
  {
   "cell_type": "code",
   "execution_count": 87,
   "id": "b2f6bb7f",
   "metadata": {},
   "outputs": [],
   "source": [
    "df = pd.read_json('../data/airlines-1558527599826.json', lines=True)"
   ]
  },
  {
   "cell_type": "code",
   "execution_count": 88,
   "id": "c3e3d1a1",
   "metadata": {},
   "outputs": [
    {
     "data": {
      "text/plain": [
       "Index(['created_at', 'id', 'id_str', 'text', 'display_text_range', 'source',\n",
       "       'truncated', 'in_reply_to_status_id', 'in_reply_to_status_id_str',\n",
       "       'in_reply_to_user_id', 'in_reply_to_user_id_str',\n",
       "       'in_reply_to_screen_name', 'user', 'geo', 'coordinates', 'place',\n",
       "       'contributors', 'is_quote_status', 'quote_count', 'reply_count',\n",
       "       'retweet_count', 'favorite_count', 'entities', 'extended_entities',\n",
       "       'favorited', 'retweeted', 'possibly_sensitive', 'filter_level', 'lang',\n",
       "       'timestamp_ms', 'retweeted_status', 'extended_tweet',\n",
       "       'quoted_status_id', 'quoted_status_id_str', 'quoted_status',\n",
       "       'quoted_status_permalink', 'delete'],\n",
       "      dtype='object')"
      ]
     },
     "execution_count": 88,
     "metadata": {},
     "output_type": "execute_result"
    }
   ],
   "source": [
    "df.columns"
   ]
  },
  {
   "cell_type": "code",
   "execution_count": 89,
   "id": "902cdf5e",
   "metadata": {},
   "outputs": [
    {
     "data": {
      "text/plain": [
       "0.0"
      ]
     },
     "execution_count": 89,
     "metadata": {},
     "output_type": "execute_result"
    }
   ],
   "source": [
    "df.truncated.iloc[0] # truncated denote 0.0, non-truncated denote 1.0 (np.float data type)"
   ]
  },
  {
   "cell_type": "code",
   "execution_count": 90,
   "id": "4298a52c",
   "metadata": {},
   "outputs": [
    {
     "data": {
      "text/plain": [
       "{'full_text': '@easyJet It is impossible to get in contact with you by using that e-mail address. So there is no claim yet which I can follow on that damage luggage website. So what to do?',\n",
       " 'display_text_range': [9, 173],\n",
       " 'entities': {'hashtags': [],\n",
       "  'urls': [],\n",
       "  'user_mentions': [{'screen_name': 'easyJet',\n",
       "    'name': 'easyJet',\n",
       "    'id': 38676903,\n",
       "    'id_str': '38676903',\n",
       "    'indices': [0, 8]}],\n",
       "  'symbols': []}}"
      ]
     },
     "execution_count": 90,
     "metadata": {},
     "output_type": "execute_result"
    }
   ],
   "source": [
    "dic = df[df.extended_tweet.notna()].extended_tweet.iloc[0] # check the dictionary\n",
    "dic"
   ]
  },
  {
   "cell_type": "code",
   "execution_count": 91,
   "id": "40cad202",
   "metadata": {},
   "outputs": [],
   "source": [
    "df = df[['text', 'truncated', 'extended_tweet']] # get needed attributes\n",
    "df_copy = df.copy()"
   ]
  },
  {
   "cell_type": "code",
   "execution_count": 92,
   "id": "874fd5df",
   "metadata": {},
   "outputs": [],
   "source": [
    "df_truncated = df[df.truncated == 1.0] # get only truncated tweets \n",
    "lst_full_text = []\n",
    "lst_index = []\n",
    "for index, value in df_truncated.iterrows():\n",
    "    lst_index.append(index) # get lst of index \n",
    "    lst_full_text.append(value.extended_tweet['full_text']) # get lst of full texts"
   ]
  },
  {
   "cell_type": "code",
   "execution_count": 93,
   "id": "33dd9332",
   "metadata": {},
   "outputs": [],
   "source": [
    "df.loc[lst_index, 'text'] = lst_full_text # pass the full_text into the original dataframe"
   ]
  },
  {
   "cell_type": "code",
   "execution_count": 95,
   "id": "8d30164e",
   "metadata": {},
   "outputs": [
    {
     "name": "stdout",
     "output_type": "stream",
     "text": [
      "@easyJet It is impossible to get in contact with you by using that e-mail address. So there is no claim yet which I can follow on that damage luggage website. So what to do?\n",
      "@easyJet It is impossible to get in contact with you by using that e-mail address. So there is no claim yet which I… https://t.co/klnO0ByCYM\n"
     ]
    }
   ],
   "source": [
    "# checking\n",
    "print(df[df.truncated == 1.0].iloc[0]['text'])\n",
    "print(df_copy[df_copy.truncated == 1.0].iloc[0]['text']) # the copy is the old-not-full version"
   ]
  }
 ],
 "metadata": {
  "kernelspec": {
   "display_name": "Python 3",
   "language": "python",
   "name": "python3"
  },
  "language_info": {
   "codemirror_mode": {
    "name": "ipython",
    "version": 3
   },
   "file_extension": ".py",
   "mimetype": "text/x-python",
   "name": "python",
   "nbconvert_exporter": "python",
   "pygments_lexer": "ipython3",
   "version": "3.8.8"
  }
 },
 "nbformat": 4,
 "nbformat_minor": 5
}
